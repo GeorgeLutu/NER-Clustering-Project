{
 "cells": [
  {
   "cell_type": "markdown",
   "id": "e3506e8f",
   "metadata": {},
   "source": [
    "# NER model project"
   ]
  },
  {
   "cell_type": "markdown",
   "id": "0d87eab0",
   "metadata": {},
   "source": [
    "In this project I tried to see how the products extracted from the websites can be clustered "
   ]
  },
  {
   "cell_type": "markdown",
   "id": "877aa3b0",
   "metadata": {},
   "source": [
    "## Creating the model"
   ]
  },
  {
   "cell_type": "code",
   "execution_count": 1,
   "id": "274934ed",
   "metadata": {},
   "outputs": [],
   "source": [
    "import pandas as pd\n",
    "import requests\n",
    "import spacy\n",
    "from sklearn.feature_extraction.text import TfidfVectorizer\n",
    "from sklearn.cluster import KMeans"
   ]
  },
  {
   "cell_type": "code",
   "execution_count": 2,
   "id": "5c5543e8",
   "metadata": {},
   "outputs": [],
   "source": [
    "# Load the CSV into a pandas DataFrame\n",
    "df = pd.read_csv('furniture stores pages.csv')"
   ]
  },
  {
   "cell_type": "code",
   "execution_count": 3,
   "id": "f2affb2a",
   "metadata": {},
   "outputs": [],
   "source": [
    "# Load the NER model in spacy\n",
    "nlp = spacy.load(\"en_core_web_sm\")"
   ]
  },
  {
   "cell_type": "code",
   "execution_count": 4,
   "id": "08e8cb22",
   "metadata": {},
   "outputs": [],
   "source": [
    "texts = []\n",
    "products = []\n",
    "for website in df['website'][:100]:\n",
    "    try:\n",
    "        response = requests.get(website)\n",
    "        text = response.text\n",
    "        texts.append(text)\n",
    "        \n",
    "        doc = nlp(text)\n",
    "        \n",
    "        product_list = [ent.text for ent in doc.ents if ent.label_ == \"PRODUCT\"]\n",
    "        products.append(\", \".join(product_list))\n",
    "    except:\n",
    "        texts.append(None)\n",
    "        products.append(None)"
   ]
  },
  {
   "cell_type": "code",
   "execution_count": 5,
   "id": "15a09b85",
   "metadata": {},
   "outputs": [],
   "source": [
    "# Add the extracted text and products back to the DataFrame\n",
    "df['text'] = pd.Series(texts)\n",
    "df['products'] = pd.Series(products)"
   ]
  },
  {
   "cell_type": "code",
   "execution_count": 6,
   "id": "b75d8577",
   "metadata": {},
   "outputs": [],
   "source": [
    "# Drop rows with missing values\n",
    "df = df.dropna()"
   ]
  },
  {
   "cell_type": "code",
   "execution_count": 7,
   "id": "ef1362ee",
   "metadata": {},
   "outputs": [],
   "source": [
    "# Create a TfidfVectorizer\n",
    "vectorizer = TfidfVectorizer()"
   ]
  },
  {
   "cell_type": "code",
   "execution_count": 8,
   "id": "6af5e0d4",
   "metadata": {},
   "outputs": [],
   "source": [
    "# Fit the vectorizer on the products\n",
    "X = vectorizer.fit_transform(df['products'])"
   ]
  },
  {
   "cell_type": "code",
   "execution_count": 9,
   "id": "5f73ec1e",
   "metadata": {},
   "outputs": [
    {
     "data": {
      "text/plain": [
       "KMeans(n_clusters=5)"
      ]
     },
     "execution_count": 9,
     "metadata": {},
     "output_type": "execute_result"
    }
   ],
   "source": [
    "# Train a KMeans clustering model on the TF-IDF features\n",
    "kmeans = KMeans(n_clusters=5)\n",
    "kmeans.fit(X)"
   ]
  },
  {
   "cell_type": "code",
   "execution_count": 10,
   "id": "67c9eb39",
   "metadata": {},
   "outputs": [],
   "source": [
    "# Assign each product to a cluster\n",
    "df['cluster'] = kmeans.predict(X)"
   ]
  },
  {
   "cell_type": "code",
   "execution_count": 11,
   "id": "37777a65",
   "metadata": {},
   "outputs": [
    {
     "name": "stdout",
     "output_type": "stream",
     "text": [
      "0    25\n",
      "1    23\n",
      "2    17\n",
      "4    12\n",
      "3     4\n",
      "Name: cluster, dtype: int64\n"
     ]
    }
   ],
   "source": [
    "# Display the number of products in each cluster\n",
    "print(df['cluster'].value_counts())"
   ]
  },
  {
   "cell_type": "markdown",
   "id": "bb661d4f",
   "metadata": {},
   "source": [
    "## New values"
   ]
  },
  {
   "cell_type": "code",
   "execution_count": 12,
   "id": "b431972f",
   "metadata": {},
   "outputs": [],
   "source": [
    "# Extract the products from some new, unseen pages (random unused websites from the excel)\n",
    "new_texts = []\n",
    "new_products = []\n",
    "new_websites = ['https://decorum-shop.co.uk/products/gift-card-10-25-50-100','https://lostine.com/products/jack-chairs','https://designkollective.com/stores/woodlandcreek/products/76623']\n",
    "\n",
    "for website in new_websites:\n",
    "    try:\n",
    "        response = requests.get(website)\n",
    "        text = response.text\n",
    "        new_texts.append(text)\n",
    "        \n",
    "        doc = nlp(text)\n",
    "        \n",
    "        product_list = [ent.text for ent in doc.ents if ent.label_ == \"PRODUCT\"]\n",
    "        new_products.append(', '.join(product_list))\n",
    "    except:\n",
    "        new_texts.append(None)\n",
    "        new_products.append(None)"
   ]
  },
  {
   "cell_type": "code",
   "execution_count": 13,
   "id": "7648ef33",
   "metadata": {},
   "outputs": [],
   "source": [
    "# Create a new DataFrame with the extracted products from the new pages\n",
    "new_df = pd.DataFrame({'website': new_websites, 'products': new_products})"
   ]
  },
  {
   "cell_type": "code",
   "execution_count": 14,
   "id": "bbd24765",
   "metadata": {},
   "outputs": [],
   "source": [
    "# Drop rows with missing values\n",
    "new_df = new_df.dropna()"
   ]
  },
  {
   "cell_type": "code",
   "execution_count": 15,
   "id": "45ba5583",
   "metadata": {},
   "outputs": [],
   "source": [
    "# Transform the new products using the TfidfVectorizer\n",
    "new_X = vectorizer.transform(new_df['products'])"
   ]
  },
  {
   "cell_type": "code",
   "execution_count": 16,
   "id": "51895f7d",
   "metadata": {},
   "outputs": [],
   "source": [
    "# Assign each new product to a cluster\n",
    "new_df['cluster'] = kmeans.predict(new_X)"
   ]
  },
  {
   "cell_type": "code",
   "execution_count": 17,
   "id": "a9a1e276",
   "metadata": {
    "scrolled": true
   },
   "outputs": [
    {
     "name": "stdout",
     "output_type": "stream",
     "text": [
      "2    1\n",
      "3    1\n",
      "Name: cluster, dtype: int64\n"
     ]
    }
   ],
   "source": [
    "# Display the number of new products in each cluster\n",
    "print(new_df['cluster'].value_counts())"
   ]
  }
 ],
 "metadata": {
  "kernelspec": {
   "display_name": "Python 3 (ipykernel)",
   "language": "python",
   "name": "python3"
  },
  "language_info": {
   "codemirror_mode": {
    "name": "ipython",
    "version": 3
   },
   "file_extension": ".py",
   "mimetype": "text/x-python",
   "name": "python",
   "nbconvert_exporter": "python",
   "pygments_lexer": "ipython3",
   "version": "3.9.13"
  }
 },
 "nbformat": 4,
 "nbformat_minor": 5
}
